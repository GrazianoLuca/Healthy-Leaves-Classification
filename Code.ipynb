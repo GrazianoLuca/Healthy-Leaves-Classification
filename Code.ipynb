{
  "cells": [
    {
      "cell_type": "code",
      "execution_count": null,
      "metadata": {
        "id": "TNW3Q8YDUhIb"
      },
      "outputs": [],
      "source": [
        "from google.colab import files, drive\n",
        "import os\n",
        "import shutil\n",
        "from PIL import Image\n",
        "import sys\n",
        "import glob\n",
        "from IPython.display import display, clear_output\n",
        "import matplotlib.pyplot as plt\n",
        "import numpy as np\n",
        "import seaborn as sns"
      ]
    },
    {
      "cell_type": "code",
      "execution_count": null,
      "metadata": {
        "id": "xNMlwSBMXTga"
      },
      "outputs": [],
      "source": [
        "import tensorflow as tf\n",
        "from tensorflow.keras.utils import image_dataset_from_directory\n",
        "from tensorflow.keras.models import Sequential\n",
        "from tensorflow.keras.layers import Input, RandomFlip, RandomRotation, RandomBrightness, Rescaling, Resizing\n",
        "from tensorflow.keras.layers import Conv2D, MaxPooling2D, Dropout, Flatten, Dense, Softmax\n",
        "from tensorflow.keras.callbacks import ModelCheckpoint, EarlyStopping\n",
        "from sklearn.metrics import classification_report, confusion_matrix"
      ]
    },
    {
      "cell_type": "code",
      "execution_count": null,
      "metadata": {
        "colab": {
          "base_uri": "https://localhost:8080/"
        },
        "id": "n7j0iyIKksVL",
        "outputId": "44e23c1a-0024-4487-ce6e-83ea64536ad2"
      },
      "outputs": [
        {
          "output_type": "stream",
          "name": "stdout",
          "text": [
            "Collecting keras_tuner\n",
            "  Downloading keras_tuner-1.3.5-py3-none-any.whl (176 kB)\n",
            "\u001b[2K     \u001b[90m━━━━━━━━━━━━━━━━━━━━━━━━━━━━━━━━━━━━━━━\u001b[0m \u001b[32m176.1/176.1 kB\u001b[0m \u001b[31m2.6 MB/s\u001b[0m eta \u001b[36m0:00:00\u001b[0m\n",
            "\u001b[?25hRequirement already satisfied: packaging in /usr/local/lib/python3.10/dist-packages (from keras_tuner) (23.1)\n",
            "Requirement already satisfied: requests in /usr/local/lib/python3.10/dist-packages (from keras_tuner) (2.27.1)\n",
            "Collecting kt-legacy (from keras_tuner)\n",
            "  Downloading kt_legacy-1.0.5-py3-none-any.whl (9.6 kB)\n",
            "Requirement already satisfied: urllib3<1.27,>=1.21.1 in /usr/local/lib/python3.10/dist-packages (from requests->keras_tuner) (1.26.16)\n",
            "Requirement already satisfied: certifi>=2017.4.17 in /usr/local/lib/python3.10/dist-packages (from requests->keras_tuner) (2023.5.7)\n",
            "Requirement already satisfied: charset-normalizer~=2.0.0 in /usr/local/lib/python3.10/dist-packages (from requests->keras_tuner) (2.0.12)\n",
            "Requirement already satisfied: idna<4,>=2.5 in /usr/local/lib/python3.10/dist-packages (from requests->keras_tuner) (3.4)\n",
            "Installing collected packages: kt-legacy, keras_tuner\n",
            "Successfully installed keras_tuner-1.3.5 kt-legacy-1.0.5\n"
          ]
        }
      ],
      "source": [
        "!pip install keras_tuner\n",
        "import keras_tuner as kt # used for hyperparameter optimisation"
      ]
    },
    {
      "cell_type": "markdown",
      "metadata": {
        "id": "Y9g65-stlBjY"
      },
      "source": [
        "# Import Data"
      ]
    },
    {
      "cell_type": "code",
      "execution_count": null,
      "metadata": {
        "colab": {
          "base_uri": "https://localhost:8080/"
        },
        "id": "9ycUhq6klAzb",
        "outputId": "20405db8-7bf5-475c-afc6-b516ccb1959e"
      },
      "outputs": [
        {
          "output_type": "stream",
          "name": "stdout",
          "text": [
            "Downloading plant-leaves-for-image-classification.zip to /content\n",
            "100% 6.56G/6.56G [03:53<00:00, 39.6MB/s]\n",
            "100% 6.56G/6.56G [03:53<00:00, 30.2MB/s]\n"
          ]
        }
      ],
      "source": [
        "# Kaggle keys\n",
        "os.environ[\"KAGGLE_USERNAME\"] = \"lucagee\"\n",
        "os.environ[\"KAGGLE_KEY\"] = \"a2fbb8660c3567ac94eb3e66d1619953\"\n",
        "\n",
        "# Download Kaggle Dataset\n",
        "!kaggle datasets download -d csafrit2/plant-leaves-for-image-classification\n",
        "\n",
        "# Unzip Dataset\n",
        "!unzip -q /content/plant-leaves-for-image-classification.zip"
      ]
    },
    {
      "cell_type": "code",
      "execution_count": null,
      "metadata": {
        "colab": {
          "base_uri": "https://localhost:8080/"
        },
        "id": "G1jikWpbp-Ei",
        "outputId": "8fdfc5d2-7b50-4750-e0cc-d1e70c27cd2d"
      },
      "outputs": [
        {
          "output_type": "execute_result",
          "data": {
            "text/plain": [
              "['/content/Plants_2/train',\n",
              " '/content/Plants_2/test',\n",
              " '/content/Plants_2/valid']"
            ]
          },
          "metadata": {},
          "execution_count": 5
        }
      ],
      "source": [
        "# define funciton to build paths\n",
        "\n",
        "def build_paths():\n",
        "  paths = []\n",
        "\n",
        "  for dir in [\"train\", \"test\", \"valid\"]:\n",
        "    paths.append(os.path.join(\"/content/Plants_2\", dir))\n",
        "\n",
        "  return paths\n",
        "\n",
        "paths = build_paths()\n",
        "paths"
      ]
    },
    {
      "cell_type": "code",
      "execution_count": null,
      "metadata": {
        "id": "tNzdZVBWkuEN"
      },
      "outputs": [],
      "source": [
        "# Function to delete subdirectories with diseased images\n",
        "\n",
        "def delete_diseased_dirs():\n",
        "  for path in paths:\n",
        "    for dir in os.listdir(path):\n",
        "      if \"diseased\" in dir:\n",
        "        shutil.rmtree(os.path.join(path, dir))\n",
        "\n",
        "# Delete Directories containing diseased images\n",
        "delete_diseased_dirs()"
      ]
    },
    {
      "cell_type": "code",
      "execution_count": null,
      "metadata": {
        "colab": {
          "base_uri": "https://localhost:8080/",
          "height": 35
        },
        "id": "1DkTYjTv8ZIZ",
        "outputId": "be3e6ca2-80d7-4888-efcb-341f936f71ce"
      },
      "outputs": [
        {
          "output_type": "display_data",
          "data": {
            "text/plain": [
              "'Images resized: 2273'"
            ],
            "application/vnd.google.colaboratory.intrinsic+json": {
              "type": "string"
            }
          },
          "metadata": {}
        }
      ],
      "source": [
        "# Function to Resize Images\n",
        "\n",
        "def resize_images(height, width):\n",
        "  indicator = 0\n",
        "  for path_subdir in paths:\n",
        "    for img_path in os.listdir(path_subdir):\n",
        "      for img in os.listdir(os.path.join(path_subdir, img_path)):\n",
        "        image_path_final = os.path.join(path_subdir, img_path, img)\n",
        "        with Image.open(image_path_final) as image:\n",
        "          resized_image = image.resize((height,width))\n",
        "          resized_image.save(image_path_final)\n",
        "          indicator += 1\n",
        "          clear_output(wait=True)\n",
        "          display('Images resized: ' + str(indicator))\n",
        "\n",
        "resize_images(256,256)"
      ]
    },
    {
      "cell_type": "code",
      "execution_count": null,
      "metadata": {
        "id": "VmVGqcT5lHdu"
      },
      "outputs": [],
      "source": [
        "# Data Processing Parameters\n",
        "IMG_SIZE = 256"
      ]
    },
    {
      "cell_type": "markdown",
      "metadata": {
        "id": "nsM6-yx5sNfw"
      },
      "source": [
        "# Setup"
      ]
    },
    {
      "cell_type": "code",
      "execution_count": null,
      "metadata": {
        "colab": {
          "base_uri": "https://localhost:8080/"
        },
        "id": "y9NG-VWVnQGw",
        "outputId": "1f3e11a2-c888-47b6-9cf6-cccd4c832e8a"
      },
      "outputs": [
        {
          "output_type": "stream",
          "name": "stdout",
          "text": [
            "Found 2163 files belonging to 11 classes.\n",
            "Found 55 files belonging to 11 classes.\n",
            "Found 55 files belonging to 11 classes.\n"
          ]
        }
      ],
      "source": [
        "train_ds = image_dataset_from_directory(\"Plants_2/train\", image_size=(IMG_SIZE, IMG_SIZE))\n",
        "val_ds = image_dataset_from_directory(\"Plants_2/valid\", image_size=(IMG_SIZE, IMG_SIZE))\n",
        "test_ds = image_dataset_from_directory(\"Plants_2/test\", image_size=(IMG_SIZE, IMG_SIZE), shuffle = False)"
      ]
    },
    {
      "cell_type": "code",
      "execution_count": null,
      "metadata": {
        "id": "PvwQtZQAscn5"
      },
      "outputs": [],
      "source": [
        "CLASS_NAMES = train_ds.class_names\n",
        "NUM_CLASSES = 11\n",
        "true_test_labels = np.concatenate([y for x, y in test_ds], axis=0)"
      ]
    },
    {
      "cell_type": "code",
      "execution_count": null,
      "metadata": {
        "id": "-EnvLevtyNdY"
      },
      "outputs": [],
      "source": [
        "# Hardware acceleration\n",
        "\n",
        "AUTOTUNE = tf.data.AUTOTUNE\n",
        "train_ds = train_ds.shuffle(512).cache().prefetch(buffer_size=AUTOTUNE)\n",
        "val_ds = val_ds.cache().prefetch(buffer_size=AUTOTUNE)\n",
        "test_ds = test_ds.cache().prefetch(buffer_size=AUTOTUNE)"
      ]
    },
    {
      "cell_type": "code",
      "execution_count": null,
      "metadata": {
        "id": "Crdnsj0wy2HO"
      },
      "outputs": [],
      "source": [
        "# Function to Build Deep Learning Model\n",
        "def make_model(params):\n",
        "  # Hyperparameters Search Space\n",
        "  DROPOUT_CONV = params.Float(\"Convolutional_Dropout\", min_value = 0.1, max_value = 0.3, step = 0.1)\n",
        "  DROPOUT_DENSE = params.Float(\"Dense_Dropout\", min_value = 0.3, max_value = 0.5, step = 0.1)\n",
        "\n",
        "  FILTERS = params.Int(\"Convolutional_Filters\", min_value=16, max_value=64, step=8)\n",
        "\n",
        "  UNITS_DENSE = params.Int(\"Dense_Units\", min_value=8, max_value=32, step=8)\n",
        "\n",
        "  # Build Model\n",
        "  model = Sequential(\n",
        "      [\n",
        "          Input(shape=(IMG_SIZE, IMG_SIZE, 3)),\n",
        "          Resizing(256,256),\n",
        "          RandomFlip(\"horizontal\"),\n",
        "          RandomFlip(\"vertical\"),\n",
        "          RandomRotation(0.2),\n",
        "          RandomBrightness(0.2),\n",
        "          Rescaling(scale=1/255.0),\n",
        "          Conv2D(filters=FILTERS, kernel_size=3, padding=\"same\", activation=\"relu\"),\n",
        "          MaxPooling2D(),\n",
        "          Dropout(DROPOUT_CONV),\n",
        "          Conv2D(filters=FILTERS, kernel_size=3, padding=\"same\", activation=\"relu\"),\n",
        "          MaxPooling2D(),\n",
        "          Conv2D(filters=FILTERS, kernel_size=3, padding=\"same\", activation=\"relu\"),\n",
        "          MaxPooling2D(),\n",
        "          Dropout(DROPOUT_CONV),\n",
        "          Flatten(),\n",
        "          Dense(UNITS_DENSE),\n",
        "          Dropout(DROPOUT_DENSE),\n",
        "          Dense(NUM_CLASSES),\n",
        "          Softmax()\n",
        "               ]\n",
        "  )\n",
        "\n",
        "  # Compile Model\n",
        "  model.compile(optimizer=\"adam\", loss=\"sparse_categorical_crossentropy\", metrics=[\"accuracy\"])\n",
        "\n",
        "  return model"
      ]
    },
    {
      "cell_type": "code",
      "execution_count": null,
      "metadata": {
        "colab": {
          "base_uri": "https://localhost:8080/"
        },
        "id": "ekQN0EAhyfCa",
        "outputId": "b96889b2-a02e-47c5-d585-975afdca53b4"
      },
      "outputs": [
        {
          "output_type": "stream",
          "name": "stdout",
          "text": [
            "Trial 10 Complete [00h 01m 50s]\n",
            "val_accuracy: 0.8181818127632141\n",
            "\n",
            "Best val_accuracy So Far: 0.8545454740524292\n",
            "Total elapsed time: 00h 13m 42s\n",
            "Results summary\n",
            "Results in grid_search/untitled_project\n",
            "Showing 10 best trials\n",
            "Objective(name=\"val_accuracy\", direction=\"max\")\n",
            "\n",
            "Trial 02 summary\n",
            "Hyperparameters:\n",
            "Convolutional_Dropout: 0.1\n",
            "Dense_Dropout: 0.4\n",
            "Convolutional_Filters: 64\n",
            "Dense_Units: 32\n",
            "Score: 0.8545454740524292\n",
            "\n",
            "Trial 00 summary\n",
            "Hyperparameters:\n",
            "Convolutional_Dropout: 0.2\n",
            "Dense_Dropout: 0.4\n",
            "Convolutional_Filters: 16\n",
            "Dense_Units: 32\n",
            "Score: 0.8363636136054993\n",
            "\n",
            "Trial 01 summary\n",
            "Hyperparameters:\n",
            "Convolutional_Dropout: 0.2\n",
            "Dense_Dropout: 0.3\n",
            "Convolutional_Filters: 24\n",
            "Dense_Units: 32\n",
            "Score: 0.8181818127632141\n",
            "\n",
            "Trial 08 summary\n",
            "Hyperparameters:\n",
            "Convolutional_Dropout: 0.1\n",
            "Dense_Dropout: 0.3\n",
            "Convolutional_Filters: 40\n",
            "Dense_Units: 32\n",
            "Score: 0.8181818127632141\n",
            "\n",
            "Trial 09 summary\n",
            "Hyperparameters:\n",
            "Convolutional_Dropout: 0.1\n",
            "Dense_Dropout: 0.5\n",
            "Convolutional_Filters: 56\n",
            "Dense_Units: 32\n",
            "Score: 0.8181818127632141\n",
            "\n",
            "Trial 03 summary\n",
            "Hyperparameters:\n",
            "Convolutional_Dropout: 0.2\n",
            "Dense_Dropout: 0.3\n",
            "Convolutional_Filters: 16\n",
            "Dense_Units: 24\n",
            "Score: 0.7818182110786438\n",
            "\n",
            "Trial 07 summary\n",
            "Hyperparameters:\n",
            "Convolutional_Dropout: 0.2\n",
            "Dense_Dropout: 0.4\n",
            "Convolutional_Filters: 32\n",
            "Dense_Units: 24\n",
            "Score: 0.7818182110786438\n",
            "\n",
            "Trial 05 summary\n",
            "Hyperparameters:\n",
            "Convolutional_Dropout: 0.1\n",
            "Dense_Dropout: 0.5\n",
            "Convolutional_Filters: 32\n",
            "Dense_Units: 16\n",
            "Score: 0.7636363506317139\n",
            "\n",
            "Trial 06 summary\n",
            "Hyperparameters:\n",
            "Convolutional_Dropout: 0.1\n",
            "Dense_Dropout: 0.4\n",
            "Convolutional_Filters: 32\n",
            "Dense_Units: 16\n",
            "Score: 0.7272727489471436\n",
            "\n",
            "Trial 04 summary\n",
            "Hyperparameters:\n",
            "Convolutional_Dropout: 0.1\n",
            "Dense_Dropout: 0.3\n",
            "Convolutional_Filters: 40\n",
            "Dense_Units: 8\n",
            "Score: 0.581818163394928\n"
          ]
        }
      ],
      "source": [
        "# Parameters\n",
        "MAX_TRIALS_TUNER = 10\n",
        "EPOCHS_TUNER = 10\n",
        "\n",
        "# Tuner\n",
        "tuner = kt.RandomSearch(make_model, objective = \"val_accuracy\", max_trials = MAX_TRIALS_TUNER, directory = \"grid_search\") # Smart way to optimise hyperparameters\n",
        "tuner.search(train_ds, validation_data = val_ds, epochs = EPOCHS_TUNER)\n",
        "tuner.results_summary()"
      ]
    },
    {
      "cell_type": "code",
      "execution_count": null,
      "metadata": {
        "id": "pt989tzksjQe",
        "colab": {
          "base_uri": "https://localhost:8080/"
        },
        "outputId": "89fa3729-0b61-41e9-9c1e-ad58d1b1ac27"
      },
      "outputs": [
        {
          "output_type": "stream",
          "name": "stdout",
          "text": [
            "Model: \"sequential_1\"\n",
            "_________________________________________________________________\n",
            " Layer (type)                Output Shape              Param #   \n",
            "=================================================================\n",
            " resizing_1 (Resizing)       (None, 256, 256, 3)       0         \n",
            "                                                                 \n",
            " random_flip_2 (RandomFlip)  (None, 256, 256, 3)       0         \n",
            "                                                                 \n",
            " random_flip_3 (RandomFlip)  (None, 256, 256, 3)       0         \n",
            "                                                                 \n",
            " random_rotation_1 (RandomRo  (None, 256, 256, 3)      0         \n",
            " tation)                                                         \n",
            "                                                                 \n",
            " random_brightness_1 (Random  (None, 256, 256, 3)      0         \n",
            " Brightness)                                                     \n",
            "                                                                 \n",
            " rescaling_1 (Rescaling)     (None, 256, 256, 3)       0         \n",
            "                                                                 \n",
            " conv2d_3 (Conv2D)           (None, 256, 256, 64)      1792      \n",
            "                                                                 \n",
            " max_pooling2d_3 (MaxPooling  (None, 128, 128, 64)     0         \n",
            " 2D)                                                             \n",
            "                                                                 \n",
            " dropout_3 (Dropout)         (None, 128, 128, 64)      0         \n",
            "                                                                 \n",
            " conv2d_4 (Conv2D)           (None, 128, 128, 64)      36928     \n",
            "                                                                 \n",
            " max_pooling2d_4 (MaxPooling  (None, 64, 64, 64)       0         \n",
            " 2D)                                                             \n",
            "                                                                 \n",
            " conv2d_5 (Conv2D)           (None, 64, 64, 64)        36928     \n",
            "                                                                 \n",
            " max_pooling2d_5 (MaxPooling  (None, 32, 32, 64)       0         \n",
            " 2D)                                                             \n",
            "                                                                 \n",
            " dropout_4 (Dropout)         (None, 32, 32, 64)        0         \n",
            "                                                                 \n",
            " flatten_1 (Flatten)         (None, 65536)             0         \n",
            "                                                                 \n",
            " dense_2 (Dense)             (None, 32)                2097184   \n",
            "                                                                 \n",
            " dropout_5 (Dropout)         (None, 32)                0         \n",
            "                                                                 \n",
            " dense_3 (Dense)             (None, 11)                363       \n",
            "                                                                 \n",
            " softmax_1 (Softmax)         (None, 11)                0         \n",
            "                                                                 \n",
            "=================================================================\n",
            "Total params: 2,173,195\n",
            "Trainable params: 2,173,195\n",
            "Non-trainable params: 0\n",
            "_________________________________________________________________\n"
          ]
        }
      ],
      "source": [
        "best_params = tuner.get_best_hyperparameters()[0]\n",
        "best_params.get_config()[\"values\"]\n",
        "model = tuner.hypermodel.build(best_params)\n",
        "model.summary()"
      ]
    },
    {
      "cell_type": "code",
      "execution_count": null,
      "metadata": {
        "id": "EKuLIk4nwcko",
        "colab": {
          "base_uri": "https://localhost:8080/"
        },
        "outputId": "b29bd490-1e0c-4d3c-f82b-c210c35964fa"
      },
      "outputs": [
        {
          "output_type": "stream",
          "name": "stdout",
          "text": [
            "Epoch 1/50\n",
            "68/68 [==============================] - 14s 178ms/step - loss: 2.2178 - accuracy: 0.2279 - val_loss: 2.0827 - val_accuracy: 0.1818\n",
            "Epoch 2/50\n",
            "68/68 [==============================] - 12s 173ms/step - loss: 1.9307 - accuracy: 0.3329 - val_loss: 1.7010 - val_accuracy: 0.4364\n",
            "Epoch 3/50\n",
            "68/68 [==============================] - 12s 171ms/step - loss: 1.7147 - accuracy: 0.4050 - val_loss: 1.3196 - val_accuracy: 0.5091\n",
            "Epoch 4/50\n",
            "68/68 [==============================] - 11s 168ms/step - loss: 1.5813 - accuracy: 0.4702 - val_loss: 1.1335 - val_accuracy: 0.6909\n",
            "Epoch 5/50\n",
            "68/68 [==============================] - 11s 167ms/step - loss: 1.5101 - accuracy: 0.4868 - val_loss: 1.1394 - val_accuracy: 0.6727\n",
            "Epoch 6/50\n",
            "68/68 [==============================] - 11s 167ms/step - loss: 1.3267 - accuracy: 0.5557 - val_loss: 0.9075 - val_accuracy: 0.7273\n",
            "Epoch 7/50\n",
            "68/68 [==============================] - 11s 167ms/step - loss: 1.1754 - accuracy: 0.6112 - val_loss: 0.7236 - val_accuracy: 0.7818\n",
            "Epoch 8/50\n",
            "68/68 [==============================] - 11s 167ms/step - loss: 1.0932 - accuracy: 0.6412 - val_loss: 0.6617 - val_accuracy: 0.8000\n",
            "Epoch 9/50\n",
            "68/68 [==============================] - 11s 168ms/step - loss: 0.9733 - accuracy: 0.6699 - val_loss: 0.7888 - val_accuracy: 0.7818\n",
            "Epoch 10/50\n",
            "68/68 [==============================] - 11s 167ms/step - loss: 0.9382 - accuracy: 0.6796 - val_loss: 0.5809 - val_accuracy: 0.8000\n",
            "Epoch 11/50\n",
            "68/68 [==============================] - 11s 166ms/step - loss: 0.9143 - accuracy: 0.7009 - val_loss: 0.8309 - val_accuracy: 0.8000\n",
            "Epoch 12/50\n",
            "68/68 [==============================] - 11s 166ms/step - loss: 0.8232 - accuracy: 0.7305 - val_loss: 0.7927 - val_accuracy: 0.8182\n",
            "Epoch 13/50\n",
            "68/68 [==============================] - 11s 166ms/step - loss: 0.7802 - accuracy: 0.7503 - val_loss: 0.5139 - val_accuracy: 0.8000\n",
            "Epoch 14/50\n",
            "68/68 [==============================] - 11s 166ms/step - loss: 0.7238 - accuracy: 0.7573 - val_loss: 0.3615 - val_accuracy: 0.8909\n",
            "Epoch 15/50\n",
            "68/68 [==============================] - 11s 167ms/step - loss: 0.8161 - accuracy: 0.7328 - val_loss: 0.4255 - val_accuracy: 0.8727\n",
            "Epoch 16/50\n",
            "68/68 [==============================] - 11s 166ms/step - loss: 0.6969 - accuracy: 0.7688 - val_loss: 0.4582 - val_accuracy: 0.8545\n",
            "Epoch 17/50\n",
            "68/68 [==============================] - 11s 166ms/step - loss: 0.6757 - accuracy: 0.7712 - val_loss: 0.3129 - val_accuracy: 0.9091\n",
            "Epoch 18/50\n",
            "68/68 [==============================] - 11s 166ms/step - loss: 0.6447 - accuracy: 0.7929 - val_loss: 0.3846 - val_accuracy: 0.8000\n",
            "Epoch 19/50\n",
            "68/68 [==============================] - 11s 165ms/step - loss: 0.6806 - accuracy: 0.7846 - val_loss: 0.3396 - val_accuracy: 0.8545\n",
            "Epoch 20/50\n",
            "68/68 [==============================] - 11s 165ms/step - loss: 0.6438 - accuracy: 0.7827 - val_loss: 0.3495 - val_accuracy: 0.8727\n",
            "Epoch 21/50\n",
            "68/68 [==============================] - 11s 165ms/step - loss: 0.5971 - accuracy: 0.8003 - val_loss: 0.4551 - val_accuracy: 0.7636\n",
            "Epoch 22/50\n",
            "68/68 [==============================] - 11s 166ms/step - loss: 0.5894 - accuracy: 0.8049 - val_loss: 0.3308 - val_accuracy: 0.9091\n",
            "Epoch 23/50\n",
            "68/68 [==============================] - 11s 166ms/step - loss: 0.6033 - accuracy: 0.7957 - val_loss: 0.3145 - val_accuracy: 0.8909\n",
            "Epoch 24/50\n",
            "68/68 [==============================] - 11s 166ms/step - loss: 0.6289 - accuracy: 0.7836 - val_loss: 0.4371 - val_accuracy: 0.8727\n",
            "Epoch 25/50\n",
            "68/68 [==============================] - 11s 165ms/step - loss: 0.5690 - accuracy: 0.8169 - val_loss: 0.3154 - val_accuracy: 0.8909\n",
            "Epoch 26/50\n",
            "68/68 [==============================] - 11s 166ms/step - loss: 0.5235 - accuracy: 0.8234 - val_loss: 0.4642 - val_accuracy: 0.8000\n",
            "Epoch 27/50\n",
            "68/68 [==============================] - 11s 166ms/step - loss: 0.4758 - accuracy: 0.8396 - val_loss: 0.2627 - val_accuracy: 0.8727\n",
            "Epoch 28/50\n",
            "68/68 [==============================] - 11s 167ms/step - loss: 0.5038 - accuracy: 0.8322 - val_loss: 0.2329 - val_accuracy: 0.9455\n",
            "Epoch 29/50\n",
            "68/68 [==============================] - 11s 166ms/step - loss: 0.4975 - accuracy: 0.8387 - val_loss: 0.3745 - val_accuracy: 0.8909\n",
            "Epoch 30/50\n",
            "68/68 [==============================] - 11s 166ms/step - loss: 0.5774 - accuracy: 0.8141 - val_loss: 0.3598 - val_accuracy: 0.8727\n",
            "Epoch 31/50\n",
            "68/68 [==============================] - 11s 166ms/step - loss: 0.4663 - accuracy: 0.8400 - val_loss: 0.3039 - val_accuracy: 0.9273\n",
            "Epoch 32/50\n",
            "68/68 [==============================] - 11s 166ms/step - loss: 0.4756 - accuracy: 0.8507 - val_loss: 0.1770 - val_accuracy: 0.9455\n",
            "Epoch 33/50\n",
            "68/68 [==============================] - 11s 167ms/step - loss: 0.4597 - accuracy: 0.8474 - val_loss: 0.1837 - val_accuracy: 0.9636\n",
            "Epoch 34/50\n",
            "68/68 [==============================] - 11s 166ms/step - loss: 0.4760 - accuracy: 0.8451 - val_loss: 0.2497 - val_accuracy: 0.9455\n",
            "Epoch 35/50\n",
            "68/68 [==============================] - 11s 166ms/step - loss: 0.3985 - accuracy: 0.8775 - val_loss: 0.1868 - val_accuracy: 0.9636\n",
            "Epoch 36/50\n",
            "68/68 [==============================] - 11s 166ms/step - loss: 0.4080 - accuracy: 0.8622 - val_loss: 0.2902 - val_accuracy: 0.9273\n",
            "Epoch 37/50\n",
            "68/68 [==============================] - 11s 166ms/step - loss: 0.3978 - accuracy: 0.8650 - val_loss: 0.1768 - val_accuracy: 0.9636\n",
            "Epoch 38/50\n",
            "68/68 [==============================] - 11s 166ms/step - loss: 0.3726 - accuracy: 0.8738 - val_loss: 0.1312 - val_accuracy: 0.9818\n",
            "Epoch 39/50\n",
            "68/68 [==============================] - 11s 166ms/step - loss: 0.3549 - accuracy: 0.8775 - val_loss: 0.2231 - val_accuracy: 0.9091\n",
            "Epoch 40/50\n",
            "68/68 [==============================] - 11s 165ms/step - loss: 0.4753 - accuracy: 0.8470 - val_loss: 0.3569 - val_accuracy: 0.8727\n",
            "Epoch 41/50\n",
            "68/68 [==============================] - 11s 167ms/step - loss: 0.3737 - accuracy: 0.8738 - val_loss: 0.2554 - val_accuracy: 0.9273\n",
            "Epoch 42/50\n",
            "68/68 [==============================] - 11s 166ms/step - loss: 0.3461 - accuracy: 0.8793 - val_loss: 0.2744 - val_accuracy: 0.9091\n",
            "Epoch 43/50\n",
            "68/68 [==============================] - 11s 165ms/step - loss: 0.3875 - accuracy: 0.8789 - val_loss: 0.1330 - val_accuracy: 0.9636\n",
            "Epoch 44/50\n",
            "68/68 [==============================] - 11s 165ms/step - loss: 0.3860 - accuracy: 0.8766 - val_loss: 0.3119 - val_accuracy: 0.9273\n",
            "Epoch 45/50\n",
            "68/68 [==============================] - 11s 166ms/step - loss: 0.3637 - accuracy: 0.8775 - val_loss: 0.7621 - val_accuracy: 0.7091\n",
            "Epoch 46/50\n",
            "68/68 [==============================] - 11s 166ms/step - loss: 0.3780 - accuracy: 0.8724 - val_loss: 0.1885 - val_accuracy: 0.9455\n",
            "Epoch 47/50\n",
            "68/68 [==============================] - 11s 166ms/step - loss: 0.3368 - accuracy: 0.8877 - val_loss: 0.1874 - val_accuracy: 0.9273\n",
            "Epoch 48/50\n",
            "68/68 [==============================] - 11s 166ms/step - loss: 0.3321 - accuracy: 0.8826 - val_loss: 0.1831 - val_accuracy: 0.9818\n",
            "Epoch 49/50\n",
            "68/68 [==============================] - 11s 166ms/step - loss: 0.3360 - accuracy: 0.8826 - val_loss: 0.2592 - val_accuracy: 0.8727\n",
            "Epoch 50/50\n",
            "68/68 [==============================] - 11s 166ms/step - loss: 0.3345 - accuracy: 0.8983 - val_loss: 0.4634 - val_accuracy: 0.8727\n"
          ]
        }
      ],
      "source": [
        "EPOCHS_FIT = 50\n",
        "history = model.fit(train_ds, validation_data=val_ds, epochs=EPOCHS_FIT)"
      ]
    },
    {
      "cell_type": "code",
      "execution_count": null,
      "metadata": {
        "id": "LQNY31aF1V5V",
        "colab": {
          "base_uri": "https://localhost:8080/",
          "height": 410
        },
        "outputId": "13c9cafa-4591-4c2e-b1f8-fb91ae94d817"
      },
      "outputs": [
        {
          "output_type": "display_data",
          "data": {
            "text/plain": [
              "<Figure size 1000x400 with 2 Axes>"
            ],
            "image/png": "[encoded data removed]"
          },
          "metadata": {}
        }
      ],
      "source": [
        "plt.figure(figsize=(10,4))\n",
        "\n",
        "plt.subplot(1,2,1)\n",
        "plt.ylim(0,1)\n",
        "plt.grid(True, \"both\", linestyle=\"--\")\n",
        "plt.plot(history.history['accuracy'])\n",
        "plt.plot(history.history['val_accuracy'])\n",
        "plt.title('Model Accuracy')\n",
        "plt.ylabel('Accuracy')\n",
        "plt.xlabel('Epoch')\n",
        "plt.legend(['Train', 'Validation'], loc='lower right')\n",
        "\n",
        "plt.subplot(1,2,2)\n",
        "plt.grid(True, \"both\", linestyle=\"--\")\n",
        "plt.plot(history.history['loss'])\n",
        "plt.plot(history.history['val_loss'])\n",
        "plt.title('Model Loss')\n",
        "plt.ylabel('Loss')\n",
        "plt.xlabel('Epoch')\n",
        "plt.legend(['Train', 'Validation'], loc='upper right')\n",
        "\n",
        "plt.show()"
      ]
    },
    {
      "cell_type": "code",
      "execution_count": null,
      "metadata": {
        "id": "AL0PPqAf1a0z",
        "colab": {
          "base_uri": "https://localhost:8080/"
        },
        "outputId": "1fb89ac4-9494-4468-c3d3-d0a004241e85"
      },
      "outputs": [
        {
          "output_type": "stream",
          "name": "stdout",
          "text": [
            "2/2 [==============================] - 0s 24ms/step - loss: 0.2216 - accuracy: 0.9455\n",
            "2/2 [==============================] - 0s 22ms/step\n"
          ]
        }
      ],
      "source": [
        "# Evaluate Performance on Test Dataset\n",
        "results = model.evaluate(test_ds)\n",
        "pred_test_labels = np.argmax(model.predict(test_ds), axis = 1)"
      ]
    },
    {
      "cell_type": "code",
      "execution_count": null,
      "metadata": {
        "id": "gyjkXECW1lFS",
        "colab": {
          "base_uri": "https://localhost:8080/"
        },
        "outputId": "b1ae5dfd-6cde-46e8-ac15-063c6e38ead2"
      },
      "outputs": [
        {
          "output_type": "stream",
          "name": "stdout",
          "text": [
            "                                  precision    recall  f1-score   support\n",
            "\n",
            "Alstonia Scholaris healthy (P2b)       1.00      1.00      1.00         5\n",
            "             Arjun healthy (P1b)       0.83      1.00      0.91         5\n",
            "              Basil healthy (P8)       1.00      1.00      1.00         5\n",
            "           Chinar healthy (P11a)       1.00      1.00      1.00         5\n",
            "             Gauva healthy (P3a)       1.00      1.00      1.00         5\n",
            "             Jamun healthy (P5a)       1.00      1.00      1.00         5\n",
            "          Jatropha healthy (P6a)       1.00      0.80      0.89         5\n",
            "            Lemon healthy (P10a)       1.00      1.00      1.00         5\n",
            "             Mango healthy (P0a)       0.71      1.00      0.83         5\n",
            "       Pomegranate healthy (P9a)       1.00      0.60      0.75         5\n",
            "  Pongamia Pinnata healthy (P7a)       1.00      1.00      1.00         5\n",
            "\n",
            "                        accuracy                           0.95        55\n",
            "                       macro avg       0.96      0.95      0.94        55\n",
            "                    weighted avg       0.96      0.95      0.94        55\n",
            "\n"
          ]
        }
      ],
      "source": [
        "true_test_labels = [CLASS_NAMES[label_int] for label_int in true_test_labels]\n",
        "pred_test_labels = [CLASS_NAMES[label_int] for label_int in pred_test_labels]\n",
        "\n",
        "report = classification_report(true_test_labels, pred_test_labels)\n",
        "print(report)"
      ]
    }
  ],
  "metadata": {
    "colab": {
      "provenance": [],
      "gpuType": "T4"
    },
    "kernelspec": {
      "display_name": "Python 3",
      "name": "python3"
    },
    "language_info": {
      "name": "python"
    },
    "accelerator": "GPU"
  },
  "nbformat": 4,
  "nbformat_minor": 0
}